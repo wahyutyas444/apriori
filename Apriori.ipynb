{
  "nbformat": 4,
  "nbformat_minor": 0,
  "metadata": {
    "colab": {
      "provenance": []
    },
    "kernelspec": {
      "name": "python3",
      "display_name": "Python 3"
    },
    "language_info": {
      "name": "python"
    }
  },
  "cells": [
    {
      "cell_type": "code",
      "source": [
        "# Langkah 1: Mengimpor library yang diperlukan\n",
        "import numpy as np\n",
        "import pandas as pd\n",
        "from mlxtend.frequent_patterns import apriori, association_rules"
      ],
      "metadata": {
        "colab": {
          "base_uri": "https://localhost:8080/"
        },
        "id": "UgdOSNCmTAkc",
        "outputId": "66d024d6-4ada-4cc4-f36a-8745c8851b87"
      },
      "execution_count": 16,
      "outputs": [
        {
          "output_type": "stream",
          "name": "stderr",
          "text": [
            "/usr/local/lib/python3.10/dist-packages/ipykernel/ipkernel.py:283: DeprecationWarning: `should_run_async` will not call `transform_cell` automatically in the future. Please pass the result to `transformed_cell` argument and any exception that happen during thetransform in `preprocessing_exc_tuple` in IPython 7.17 and above.\n",
            "  and should_run_async(code)\n"
          ]
        }
      ]
    },
    {
      "cell_type": "code",
      "source": [
        "# Langkah 2: Meload dan Mengeksplor data\n",
        "\n",
        "# Memuat Data\n",
        "data = pd.read_csv(\"Online_Retail.csv\")  # Pastikan file ini tersedia di Google Colab\n",
        "print(data.head())\n",
        "\n",
        "# Mengeksplor kolom data\n",
        "print(data.columns)\n",
        "\n",
        "# Mengeksplor berbagai wilayah transaksi\n",
        "print(data['Country'].unique())"
      ],
      "metadata": {
        "colab": {
          "base_uri": "https://localhost:8080/",
          "height": 584
        },
        "id": "SgqfqRloSS-g",
        "outputId": "caf1e6b2-48eb-4fcf-a8da-a4c9b81b4dbb"
      },
      "execution_count": 19,
      "outputs": [
        {
          "output_type": "stream",
          "name": "stderr",
          "text": [
            "/usr/local/lib/python3.10/dist-packages/ipykernel/ipkernel.py:283: DeprecationWarning: `should_run_async` will not call `transform_cell` automatically in the future. Please pass the result to `transformed_cell` argument and any exception that happen during thetransform in `preprocessing_exc_tuple` in IPython 7.17 and above.\n",
            "  and should_run_async(code)\n"
          ]
        },
        {
          "output_type": "error",
          "ename": "UnicodeDecodeError",
          "evalue": "'utf-8' codec can't decode byte 0xa3 in position 227179: invalid start byte",
          "traceback": [
            "\u001b[0;31m---------------------------------------------------------------------------\u001b[0m",
            "\u001b[0;31mUnicodeDecodeError\u001b[0m                        Traceback (most recent call last)",
            "\u001b[0;32m<ipython-input-19-ce59b499663c>\u001b[0m in \u001b[0;36m<cell line: 4>\u001b[0;34m()\u001b[0m\n\u001b[1;32m      2\u001b[0m \u001b[0;34m\u001b[0m\u001b[0m\n\u001b[1;32m      3\u001b[0m \u001b[0;31m# Memuat Data\u001b[0m\u001b[0;34m\u001b[0m\u001b[0;34m\u001b[0m\u001b[0m\n\u001b[0;32m----> 4\u001b[0;31m \u001b[0mdata\u001b[0m \u001b[0;34m=\u001b[0m \u001b[0mpd\u001b[0m\u001b[0;34m.\u001b[0m\u001b[0mread_csv\u001b[0m\u001b[0;34m(\u001b[0m\u001b[0;34m\"/content/Online_Retail.csv\"\u001b[0m\u001b[0;34m)\u001b[0m  \u001b[0;31m# Pastikan file ini tersedia di Google Colab\u001b[0m\u001b[0;34m\u001b[0m\u001b[0;34m\u001b[0m\u001b[0m\n\u001b[0m\u001b[1;32m      5\u001b[0m \u001b[0mprint\u001b[0m\u001b[0;34m(\u001b[0m\u001b[0mdata\u001b[0m\u001b[0;34m.\u001b[0m\u001b[0mhead\u001b[0m\u001b[0;34m(\u001b[0m\u001b[0;34m)\u001b[0m\u001b[0;34m)\u001b[0m\u001b[0;34m\u001b[0m\u001b[0;34m\u001b[0m\u001b[0m\n\u001b[1;32m      6\u001b[0m \u001b[0;34m\u001b[0m\u001b[0m\n",
            "\u001b[0;32m/usr/local/lib/python3.10/dist-packages/pandas/io/parsers/readers.py\u001b[0m in \u001b[0;36mread_csv\u001b[0;34m(filepath_or_buffer, sep, delimiter, header, names, index_col, usecols, dtype, engine, converters, true_values, false_values, skipinitialspace, skiprows, skipfooter, nrows, na_values, keep_default_na, na_filter, verbose, skip_blank_lines, parse_dates, infer_datetime_format, keep_date_col, date_parser, date_format, dayfirst, cache_dates, iterator, chunksize, compression, thousands, decimal, lineterminator, quotechar, quoting, doublequote, escapechar, comment, encoding, encoding_errors, dialect, on_bad_lines, delim_whitespace, low_memory, memory_map, float_precision, storage_options, dtype_backend)\u001b[0m\n\u001b[1;32m   1024\u001b[0m     \u001b[0mkwds\u001b[0m\u001b[0;34m.\u001b[0m\u001b[0mupdate\u001b[0m\u001b[0;34m(\u001b[0m\u001b[0mkwds_defaults\u001b[0m\u001b[0;34m)\u001b[0m\u001b[0;34m\u001b[0m\u001b[0;34m\u001b[0m\u001b[0m\n\u001b[1;32m   1025\u001b[0m \u001b[0;34m\u001b[0m\u001b[0m\n\u001b[0;32m-> 1026\u001b[0;31m     \u001b[0;32mreturn\u001b[0m \u001b[0m_read\u001b[0m\u001b[0;34m(\u001b[0m\u001b[0mfilepath_or_buffer\u001b[0m\u001b[0;34m,\u001b[0m \u001b[0mkwds\u001b[0m\u001b[0;34m)\u001b[0m\u001b[0;34m\u001b[0m\u001b[0;34m\u001b[0m\u001b[0m\n\u001b[0m\u001b[1;32m   1027\u001b[0m \u001b[0;34m\u001b[0m\u001b[0m\n\u001b[1;32m   1028\u001b[0m \u001b[0;34m\u001b[0m\u001b[0m\n",
            "\u001b[0;32m/usr/local/lib/python3.10/dist-packages/pandas/io/parsers/readers.py\u001b[0m in \u001b[0;36m_read\u001b[0;34m(filepath_or_buffer, kwds)\u001b[0m\n\u001b[1;32m    624\u001b[0m \u001b[0;34m\u001b[0m\u001b[0m\n\u001b[1;32m    625\u001b[0m     \u001b[0;32mwith\u001b[0m \u001b[0mparser\u001b[0m\u001b[0;34m:\u001b[0m\u001b[0;34m\u001b[0m\u001b[0;34m\u001b[0m\u001b[0m\n\u001b[0;32m--> 626\u001b[0;31m         \u001b[0;32mreturn\u001b[0m \u001b[0mparser\u001b[0m\u001b[0;34m.\u001b[0m\u001b[0mread\u001b[0m\u001b[0;34m(\u001b[0m\u001b[0mnrows\u001b[0m\u001b[0;34m)\u001b[0m\u001b[0;34m\u001b[0m\u001b[0;34m\u001b[0m\u001b[0m\n\u001b[0m\u001b[1;32m    627\u001b[0m \u001b[0;34m\u001b[0m\u001b[0m\n\u001b[1;32m    628\u001b[0m \u001b[0;34m\u001b[0m\u001b[0m\n",
            "\u001b[0;32m/usr/local/lib/python3.10/dist-packages/pandas/io/parsers/readers.py\u001b[0m in \u001b[0;36mread\u001b[0;34m(self, nrows)\u001b[0m\n\u001b[1;32m   1921\u001b[0m                     \u001b[0mcolumns\u001b[0m\u001b[0;34m,\u001b[0m\u001b[0;34m\u001b[0m\u001b[0;34m\u001b[0m\u001b[0m\n\u001b[1;32m   1922\u001b[0m                     \u001b[0mcol_dict\u001b[0m\u001b[0;34m,\u001b[0m\u001b[0;34m\u001b[0m\u001b[0;34m\u001b[0m\u001b[0m\n\u001b[0;32m-> 1923\u001b[0;31m                 \u001b[0;34m)\u001b[0m \u001b[0;34m=\u001b[0m \u001b[0mself\u001b[0m\u001b[0;34m.\u001b[0m\u001b[0m_engine\u001b[0m\u001b[0;34m.\u001b[0m\u001b[0mread\u001b[0m\u001b[0;34m(\u001b[0m  \u001b[0;31m# type: ignore[attr-defined]\u001b[0m\u001b[0;34m\u001b[0m\u001b[0;34m\u001b[0m\u001b[0m\n\u001b[0m\u001b[1;32m   1924\u001b[0m                     \u001b[0mnrows\u001b[0m\u001b[0;34m\u001b[0m\u001b[0;34m\u001b[0m\u001b[0m\n\u001b[1;32m   1925\u001b[0m                 )\n",
            "\u001b[0;32m/usr/local/lib/python3.10/dist-packages/pandas/io/parsers/c_parser_wrapper.py\u001b[0m in \u001b[0;36mread\u001b[0;34m(self, nrows)\u001b[0m\n\u001b[1;32m    232\u001b[0m         \u001b[0;32mtry\u001b[0m\u001b[0;34m:\u001b[0m\u001b[0;34m\u001b[0m\u001b[0;34m\u001b[0m\u001b[0m\n\u001b[1;32m    233\u001b[0m             \u001b[0;32mif\u001b[0m \u001b[0mself\u001b[0m\u001b[0;34m.\u001b[0m\u001b[0mlow_memory\u001b[0m\u001b[0;34m:\u001b[0m\u001b[0;34m\u001b[0m\u001b[0;34m\u001b[0m\u001b[0m\n\u001b[0;32m--> 234\u001b[0;31m                 \u001b[0mchunks\u001b[0m \u001b[0;34m=\u001b[0m \u001b[0mself\u001b[0m\u001b[0;34m.\u001b[0m\u001b[0m_reader\u001b[0m\u001b[0;34m.\u001b[0m\u001b[0mread_low_memory\u001b[0m\u001b[0;34m(\u001b[0m\u001b[0mnrows\u001b[0m\u001b[0;34m)\u001b[0m\u001b[0;34m\u001b[0m\u001b[0;34m\u001b[0m\u001b[0m\n\u001b[0m\u001b[1;32m    235\u001b[0m                 \u001b[0;31m# destructive to chunks\u001b[0m\u001b[0;34m\u001b[0m\u001b[0;34m\u001b[0m\u001b[0m\n\u001b[1;32m    236\u001b[0m                 \u001b[0mdata\u001b[0m \u001b[0;34m=\u001b[0m \u001b[0m_concatenate_chunks\u001b[0m\u001b[0;34m(\u001b[0m\u001b[0mchunks\u001b[0m\u001b[0;34m)\u001b[0m\u001b[0;34m\u001b[0m\u001b[0;34m\u001b[0m\u001b[0m\n",
            "\u001b[0;32mparsers.pyx\u001b[0m in \u001b[0;36mpandas._libs.parsers.TextReader.read_low_memory\u001b[0;34m()\u001b[0m\n",
            "\u001b[0;32mparsers.pyx\u001b[0m in \u001b[0;36mpandas._libs.parsers.TextReader._read_rows\u001b[0;34m()\u001b[0m\n",
            "\u001b[0;32mparsers.pyx\u001b[0m in \u001b[0;36mpandas._libs.parsers.TextReader._tokenize_rows\u001b[0;34m()\u001b[0m\n",
            "\u001b[0;32mparsers.pyx\u001b[0m in \u001b[0;36mpandas._libs.parsers.TextReader._check_tokenize_status\u001b[0;34m()\u001b[0m\n",
            "\u001b[0;32mparsers.pyx\u001b[0m in \u001b[0;36mpandas._libs.parsers.raise_parser_error\u001b[0;34m()\u001b[0m\n",
            "\u001b[0;31mUnicodeDecodeError\u001b[0m: 'utf-8' codec can't decode byte 0xa3 in position 227179: invalid start byte"
          ]
        }
      ]
    },
    {
      "cell_type": "code",
      "source": [
        "# Langkah 3: Membersihkan Data\n",
        "\n",
        "# Menghapus ruang ekstra dalam deskripsi\n",
        "data['Description'] = data['Description'].str.strip()\n",
        "\n",
        "# Menghapus baris tanpa nomor faktur (InvoiceNo)\n",
        "data.dropna(axis=0, subset=['InvoiceNo'], inplace=True)\n",
        "\n",
        "# Mengubah tipe data InvoiceNo menjadi string\n",
        "data['InvoiceNo'] = data['InvoiceNo'].astype('str')\n",
        "\n",
        "# Menghapus semua transaksi yang dilakukan secara kredit\n",
        "data = data[~data['InvoiceNo'].str.contains('C')]"
      ],
      "metadata": {
        "colab": {
          "base_uri": "https://localhost:8080/"
        },
        "id": "VGHcr6yhSUz6",
        "outputId": "2fce03f6-b07e-4923-e4a0-cbc1e45273e4"
      },
      "execution_count": 15,
      "outputs": [
        {
          "output_type": "stream",
          "name": "stderr",
          "text": [
            "/usr/local/lib/python3.10/dist-packages/ipykernel/ipkernel.py:283: DeprecationWarning: `should_run_async` will not call `transform_cell` automatically in the future. Please pass the result to `transformed_cell` argument and any exception that happen during thetransform in `preprocessing_exc_tuple` in IPython 7.17 and above.\n",
            "  and should_run_async(code)\n"
          ]
        }
      ]
    },
    {
      "cell_type": "code",
      "source": [
        "# Langkah 4: Memisahkan data sesuai dengan wilayah transaksi\n",
        "\n",
        "# Transaksi dilakukan di Prancis\n",
        "basket_France = (data[data['Country'] == \"France\"]\n",
        "                 .groupby(['InvoiceNo', 'Description'])['Quantity']\n",
        "                 .sum().unstack().reset_index().fillna(0)\n",
        "                 .set_index('InvoiceNo'))\n",
        "\n",
        "# Transaksi dilakukan di United Kingdom\n",
        "basket_UK = (data[data['Country'] == \"United Kingdom\"]\n",
        "             .groupby(['InvoiceNo', 'Description'])['Quantity']\n",
        "             .sum().unstack().reset_index().fillna(0)\n",
        "             .set_index('InvoiceNo'))\n",
        "\n",
        "# Transaksi dilakukan di Portugal\n",
        "basket_Por = (data[data['Country'] == \"Portugal\"]\n",
        "              .groupby(['InvoiceNo', 'Description'])['Quantity']\n",
        "              .sum().unstack().reset_index().fillna(0)\n",
        "              .set_index('InvoiceNo'))\n",
        "\n",
        "# Transaksi dilakukan di Sweden\n",
        "basket_Sweden = (data[data['Country'] == \"Sweden\"]\n",
        "                 .groupby(['InvoiceNo', 'Description'])['Quantity']\n",
        "                 .sum().unstack().reset_index().fillna(0)\n",
        "                 .set_index('InvoiceNo'))"
      ],
      "metadata": {
        "colab": {
          "base_uri": "https://localhost:8080/"
        },
        "id": "EA8TzfQJSW1Y",
        "outputId": "dba7f5c4-1c16-4a1c-da97-cf6e50c26e89"
      },
      "execution_count": 14,
      "outputs": [
        {
          "output_type": "stream",
          "name": "stderr",
          "text": [
            "/usr/local/lib/python3.10/dist-packages/ipykernel/ipkernel.py:283: DeprecationWarning: `should_run_async` will not call `transform_cell` automatically in the future. Please pass the result to `transformed_cell` argument and any exception that happen during thetransform in `preprocessing_exc_tuple` in IPython 7.17 and above.\n",
            "  and should_run_async(code)\n"
          ]
        }
      ]
    },
    {
      "cell_type": "code",
      "source": [
        "# Langkah 5: Pengkodean Data dengan \"Hot Encoding\"\n",
        "\n",
        "# Fungsi untuk hot encoding\n",
        "def hot_encode(x):\n",
        "    if x <= 0:\n",
        "        return 0\n",
        "    if x >= 1:\n",
        "        return 1\n",
        "\n",
        "# Mengaplikasikan fungsi hot encoding\n",
        "basket_France = basket_France.applymap(hot_encode)\n",
        "basket_UK = basket_UK.applymap(hot_encode)\n",
        "basket_Por = basket_Por.applymap(hot_encode)\n",
        "basket_Sweden = basket_Sweden.applymap(hot_encode)"
      ],
      "metadata": {
        "id": "HAch-2llSZga"
      },
      "execution_count": null,
      "outputs": []
    },
    {
      "cell_type": "code",
      "source": [
        "# Langkah 6: Membangun model untuk France\n",
        "\n",
        "# Membangun model apriori\n",
        "frq_items = apriori(basket_France, min_support=0.05, use_colnames=True)\n",
        "\n",
        "# Mengumpulkan aturan asosiasi\n",
        "rules = association_rules(frq_items, metric=\"lift\", min_threshold=1)\n",
        "\n",
        "# Mengurutkan aturan berdasarkan confidence dan lift\n",
        "rules = rules.sort_values(['confidence', 'lift'], ascending=[False, False])\n",
        "\n",
        "# Menampilkan hasil\n",
        "print(rules.head())"
      ],
      "metadata": {
        "id": "Jw90_5z-SbVq"
      },
      "execution_count": null,
      "outputs": []
    },
    {
      "cell_type": "code",
      "source": [
        "# Langkah 6: Membangun model untuk United Kingdom\n",
        "\n",
        "# Membangun model apriori\n",
        "frq_items = apriori(basket_UK, min_support=0.01, use_colnames=True)\n",
        "\n",
        "# Mengumpulkan aturan asosiasi\n",
        "rules = association_rules(frq_items, metric=\"lift\", min_threshold=1)\n",
        "\n",
        "# Mengurutkan aturan berdasarkan confidence dan lift\n",
        "rules = rules.sort_values(['confidence', 'lift'], ascending=[False, False])\n",
        "\n",
        "# Menampilkan hasil\n",
        "print(rules.head())"
      ],
      "metadata": {
        "id": "u5XejR2qSc9-"
      },
      "execution_count": null,
      "outputs": []
    },
    {
      "cell_type": "code",
      "source": [
        "# Langkah 6: Membangun model untuk Portugal\n",
        "\n",
        "# Membangun model apriori\n",
        "frq_items = apriori(basket_Por, min_support=0.05, use_colnames=True)\n",
        "\n",
        "# Mengumpulkan aturan asosiasi\n",
        "rules = association_rules(frq_items, metric=\"lift\", min_threshold=1)\n",
        "\n",
        "# Mengurutkan aturan berdasarkan confidence dan lift\n",
        "rules = rules.sort_values(['confidence', 'lift'], ascending=[False, False])\n",
        "\n",
        "# Menampilkan hasil\n",
        "print(rules.head())"
      ],
      "metadata": {
        "id": "uBUADJsASetV"
      },
      "execution_count": null,
      "outputs": []
    },
    {
      "cell_type": "code",
      "source": [
        "# Langkah 6: Membangun model untuk Sweden\n",
        "\n",
        "# Membangun model apriori\n",
        "frq_items = apriori(basket_Sweden, min_support=0.05, use_colnames=True)\n",
        "\n",
        "# Mengumpulkan aturan asosiasi\n",
        "rules = association_rules(frq_items, metric=\"lift\", min_threshold=1)\n",
        "\n",
        "# Mengurutkan aturan berdasarkan confidence dan lift\n",
        "rules = rules.sort_values(['confidence', 'lift'], ascending=[False, False])\n",
        "\n",
        "# Menampilkan hasil\n",
        "print(rules.head())"
      ],
      "metadata": {
        "id": "Jq7bn0QjSgMf"
      },
      "execution_count": null,
      "outputs": []
    }
  ]
}